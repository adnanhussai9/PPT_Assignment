{
  "nbformat": 4,
  "nbformat_minor": 0,
  "metadata": {
    "colab": {
      "provenance": [],
      "authorship_tag": "ABX9TyPxTS6RKWCFVH08kKhKXJQZ",
      "include_colab_link": true
    },
    "kernelspec": {
      "name": "python3",
      "display_name": "Python 3"
    },
    "language_info": {
      "name": "python"
    }
  },
  "cells": [
    {
      "cell_type": "markdown",
      "metadata": {
        "id": "view-in-github",
        "colab_type": "text"
      },
      "source": [
        "<a href=\"https://colab.research.google.com/github/adnanhussai9/PPT_Assignment/blob/main/1_Assignmrent_1.ipynb\" target=\"_parent\"><img src=\"https://colab.research.google.com/assets/colab-badge.svg\" alt=\"Open In Colab\"/></a>"
      ]
    },
    {
      "cell_type": "markdown",
      "source": [
        "<aside>\n",
        " Q1.Given an array of integers nums and an integer target, return indices of the two numbers such that they add up to target.\n",
        "\n",
        "You may assume that each input would have exactly one solution, and you may not use the same element twice.\n",
        "\n",
        "You can return the answer in any order.\n",
        "\n",
        "**Example:**\n",
        "Input: nums = [2,7,11,15], target = 9\n",
        "Output0 [0,1]\n",
        "\n",
        "**Explanation:** Because nums[0] + nums[1] == 9, we return [0, 1]\n",
        "\n",
        "</aside>"
      ],
      "metadata": {
        "id": "5QTTAI8s8Ev4"
      }
    },
    {
      "cell_type": "code",
      "execution_count": 1,
      "metadata": {
        "colab": {
          "base_uri": "https://localhost:8080/"
        },
        "id": "r1r56G617svB",
        "outputId": "4e481021-3f3b-470c-831d-406351140f7c"
      },
      "outputs": [
        {
          "output_type": "execute_result",
          "data": {
            "text/plain": [
              "[0, 1]"
            ]
          },
          "metadata": {},
          "execution_count": 1
        }
      ],
      "source": [
        "def twoSum(nums, target):    \n",
        "    d = {}\n",
        "    for i, j in enumerate(nums):\n",
        "        r = target - j\n",
        "        if r in d: return [d[r], i]\n",
        "        d[j] = i\n",
        "twoSum([2,7,11,15],9)"
      ]
    },
    {
      "cell_type": "markdown",
      "source": [
        "<aside>\n",
        "💡 **Q2.** Given an integer array nums and an integer val, remove all occurrences of val in nums in-place. The order of the elements may be changed. Then return the number of elements in nums which are not equal to val.\n",
        "\n",
        "Consider the number of elements in nums which are not equal to val be k, to get accepted, you need to do the following things:\n",
        "\n",
        "- Change the array nums such that the first k elements of nums contain the elements which are not equal to val. The remaining elements of nums are not important as well as the size of nums.\n",
        "- Return k.\n",
        "\n",
        "**Example :**\n",
        "Input: nums = [3,2,2,3], val = 3\n",
        "Output: 2, nums = [2,2,_*,_*]\n",
        "\n",
        "**Explanation:** Your function should return k = 2, with the first two elements of nums being 2. It does not matter what you leave beyond the returned k (hence they are underscores)[\n",
        "\n",
        "</aside>"
      ],
      "metadata": {
        "id": "DtaxI-mQ8hbU"
      }
    },
    {
      "cell_type": "code",
      "source": [
        "def removeElement(nums, val):\n",
        "    i = 0\n",
        "    for x in nums:\n",
        "        if x != val:\n",
        "            nums[i] = x\n",
        "            i += 1\n",
        "    return i\n",
        "removeElement([3,2,2,3],3)"
      ],
      "metadata": {
        "colab": {
          "base_uri": "https://localhost:8080/"
        },
        "id": "urmiXzqb9iWZ",
        "outputId": "62b3f6aa-fb6e-47d2-ff44-749bc2b48293"
      },
      "execution_count": 3,
      "outputs": [
        {
          "output_type": "execute_result",
          "data": {
            "text/plain": [
              "2"
            ]
          },
          "metadata": {},
          "execution_count": 3
        }
      ]
    },
    {
      "cell_type": "markdown",
      "source": [
        "<aside>\n",
        "💡 **Q3.** Given a sorted array of distinct integers and a target value, return the index if the target is found. If not, return the index where it would be if it were inserted in order.\n",
        "\n",
        "You must write an algorithm with O(log n) runtime complexity.\n",
        "\n",
        "**Example 1:**\n",
        "Input: nums = [1,3,5,6], target = 5\n",
        "\n",
        "Output: 2\n",
        "\n",
        "</aside>"
      ],
      "metadata": {
        "id": "tn-nKD5H8mAj"
      }
    },
    {
      "cell_type": "code",
      "source": [
        "def searchInsert(nums, target):\n",
        "  l = 0\n",
        "  r = len(nums) - 1\n",
        "  while l <= r:\n",
        "      mid = (l + r) // 2\n",
        "      if nums[mid] < target:\n",
        "          l = mid + 1\n",
        "      elif nums[mid] > target:\n",
        "          r = mid - 1\n",
        "      else:\n",
        "          return mid\n",
        "  return l\n",
        "\n",
        "searchInsert([1,3,5,6],5)"
      ],
      "metadata": {
        "colab": {
          "base_uri": "https://localhost:8080/"
        },
        "id": "djYtC76h-MGX",
        "outputId": "13ce3af8-5265-4920-ee40-f1a2b5929e6d"
      },
      "execution_count": 5,
      "outputs": [
        {
          "output_type": "execute_result",
          "data": {
            "text/plain": [
              "2"
            ]
          },
          "metadata": {},
          "execution_count": 5
        }
      ]
    },
    {
      "cell_type": "markdown",
      "source": [
        "<aside>\n",
        "💡 **Q4.** You are given a large integer represented as an integer array digits, where each digits[i] is the ith digit of the integer. The digits are ordered from most significant to least significant in left-to-right order. The large integer does not contain any leading 0's.\n",
        "\n",
        "Increment the large integer by one and return the resulting array of digits.\n",
        "\n",
        "**Example 1:**\n",
        "Input: digits = [1,2,3]\n",
        "Output: [1,2,4]\n",
        "\n",
        "**Explanation:** The array represents the integer 123.\n",
        "\n",
        "Incrementing by one gives 123 + 1 = 124.\n",
        "Thus, the result should be [1,2,4].\n",
        "\n",
        "</aside>"
      ],
      "metadata": {
        "id": "C-BwwAL9-qpF"
      }
    },
    {
      "cell_type": "code",
      "source": [
        "def plusOne(digits):\n",
        "  sums = digits[-1] + 1\n",
        "  carry = 1 if sums > 9 else 0  \n",
        "  digits[-1] = 0 if sums > 9 else sums\n",
        "\n",
        "  for i in range(len(digits)-2, -1, -1):\n",
        "      if digits[i] + carry > 9:\n",
        "          carry = 1\n",
        "          digits[i] = 0\n",
        "      else:\n",
        "          digits[i] = digits[i] + carry\n",
        "          carry = 0\n",
        "  \n",
        "  if carry == 1 : digits.insert(0,1)\n",
        "  \n",
        "  return digits\n",
        "\n",
        "plusOne([1,2,3])"
      ],
      "metadata": {
        "colab": {
          "base_uri": "https://localhost:8080/"
        },
        "id": "vBG-F0oYA74I",
        "outputId": "0e98bb24-a2ec-46b9-eed9-d01bf57bc010"
      },
      "execution_count": 6,
      "outputs": [
        {
          "output_type": "execute_result",
          "data": {
            "text/plain": [
              "[1, 2, 4]"
            ]
          },
          "metadata": {},
          "execution_count": 6
        }
      ]
    },
    {
      "cell_type": "markdown",
      "source": [
        "<aside>\n",
        "💡 **Q5.** You are given two integer arrays nums1 and nums2, sorted in non-decreasing order, and two integers m and n, representing the number of elements in nums1 and nums2 respectively.\n",
        "\n",
        "Merge nums1 and nums2 into a single array sorted in non-decreasing order.\n",
        "\n",
        "The final sorted array should not be returned by the function, but instead be stored inside the array nums1. To accommodate this, nums1 has a length of m + n, where the first m elements denote the elements that should be merged, and the last n elements are set to 0 and should be ignored. nums2 has a length of n.\n",
        "\n",
        "**Example 1:**\n",
        "Input: nums1 = [1,2,3,0,0,0], m = 3, nums2 = [2,5,6], n = 3\n",
        "Output: [1,2,2,3,5,6]\n",
        "\n",
        "**Explanation:** The arrays we are merging are [1,2,3] and [2,5,6].\n",
        "The result of the merge is [1,2,2,3,5,6] with the underlined elements coming from nums1.\n",
        "\n",
        "</aside>"
      ],
      "metadata": {
        "id": "c7a3S2A_A7Rt"
      }
    },
    {
      "cell_type": "code",
      "source": [
        "def merge_two_sorted_arrays(A, m, B, n):\n",
        "  a, b, write_index = m-1, n-1, m + n - 1\n",
        "\n",
        "  while b >= 0:\n",
        "      if a >= 0 and A[a] > B[b]:\n",
        "          A[write_index] = A[a]\n",
        "          a -= 1\n",
        "      else:\n",
        "          A[write_index] = B[b]\n",
        "          b -= 1\n",
        "\n",
        "      write_index -= 1\n",
        "  print(A)\n",
        "\n",
        "merge_two_sorted_arrays([1,2,3,0,0,0], 3, [2,5,6], 3)"
      ],
      "metadata": {
        "colab": {
          "base_uri": "https://localhost:8080/"
        },
        "id": "JLKyKpXDBT6s",
        "outputId": "9786143c-2256-4f81-eb23-deac4e5e7f0d"
      },
      "execution_count": 7,
      "outputs": [
        {
          "output_type": "stream",
          "name": "stdout",
          "text": [
            "[1, 2, 2, 3, 5, 6]\n"
          ]
        }
      ]
    },
    {
      "cell_type": "markdown",
      "source": [
        "<aside>\n",
        "💡 **Q6.** Given an integer array nums, return true if any value appears at least twice in the array, and return false if every element is distinct.\n",
        "\n",
        "**Example 1:**\n",
        "Input: nums = [1,2,3,1]\n",
        "\n",
        "Output: true\n",
        "\n",
        "</aside>"
      ],
      "metadata": {
        "id": "dk5ouphGCKFh"
      }
    },
    {
      "cell_type": "code",
      "source": [
        "def containsDuplicate(nums):\n",
        "  counter = {}\n",
        "  for num in nums:\n",
        "      if num not in counter:\n",
        "          counter[num] = 0\n",
        "      counter[num] += 1\n",
        "  for num, freq in counter.items():\n",
        "      if freq > 1:\n",
        "          return True\n",
        "  return False\n",
        "\n",
        "containsDuplicate([1,2,3,1])"
      ],
      "metadata": {
        "colab": {
          "base_uri": "https://localhost:8080/"
        },
        "id": "_8JPe4AgCsJt",
        "outputId": "984eb7df-fda3-4ee9-e0bb-0653c0305fb0"
      },
      "execution_count": 8,
      "outputs": [
        {
          "output_type": "execute_result",
          "data": {
            "text/plain": [
              "True"
            ]
          },
          "metadata": {},
          "execution_count": 8
        }
      ]
    },
    {
      "cell_type": "code",
      "source": [
        "def containsDuplicate(nums):\n",
        "    return len(set(nums)) != len(nums)\n",
        "\n",
        "containsDuplicate([1,2,3,1])"
      ],
      "metadata": {
        "colab": {
          "base_uri": "https://localhost:8080/"
        },
        "id": "aMgC3YMHCBu-",
        "outputId": "d839bf66-7c84-4370-db64-a15d70f4fcd0"
      },
      "execution_count": 9,
      "outputs": [
        {
          "output_type": "execute_result",
          "data": {
            "text/plain": [
              "True"
            ]
          },
          "metadata": {},
          "execution_count": 9
        }
      ]
    },
    {
      "cell_type": "markdown",
      "source": [
        "<aside>\n",
        "💡 **Q7.** Given an integer array nums, move all 0's to the end of it while maintaining the relative order of the nonzero elements.\n",
        "\n",
        "Note that you must do this in-place without making a copy of the array.\n",
        "\n",
        "**Example 1:**\n",
        "Input: nums = [0,1,0,3,12]\n",
        "Output: [1,3,12,0,0]\n",
        "\n",
        "</aside>"
      ],
      "metadata": {
        "id": "5CwbeW9cDDFk"
      }
    },
    {
      "cell_type": "code",
      "source": [
        "def moveZeroes(nums):\n",
        "  slow = 0\n",
        "  for fast in range(len(nums)):\n",
        "      if nums[fast] != 0 and nums[slow] == 0:\n",
        "          nums[slow], nums[fast] = nums[fast], nums[slow]\n",
        "\n",
        "      if nums[slow] != 0:\n",
        "          slow += 1\n",
        "  print(nums)\n",
        "\n",
        "moveZeroes([0,1,0,3,12])"
      ],
      "metadata": {
        "colab": {
          "base_uri": "https://localhost:8080/"
        },
        "id": "WgMgCbQ9DCaQ",
        "outputId": "5b644f69-53e9-4b54-a045-585f7b3b9e5d"
      },
      "execution_count": 10,
      "outputs": [
        {
          "output_type": "stream",
          "name": "stdout",
          "text": [
            "[1, 3, 12, 0, 0]\n"
          ]
        }
      ]
    },
    {
      "cell_type": "markdown",
      "source": [
        "<aside>\n",
        "💡 **Q8.** You have a set of integers s, which originally contains all the numbers from 1 to n. Unfortunately, due to some error, one of the numbers in s got duplicated to another number in the set, which results in repetition of one number and loss of another number.\n",
        "\n",
        "You are given an integer array nums representing the data status of this set after the error.\n",
        "\n",
        "Find the number that occurs twice and the number that is missing and return them in the form of an array.\n",
        "\n",
        "**Example 1:**\n",
        "Input: nums = [1,2,2,4]\n",
        "Output: [2,3]\n",
        "\n",
        "</aside>"
      ],
      "metadata": {
        "id": "9GHvEt4zErbi"
      }
    },
    {
      "cell_type": "code",
      "source": [
        "def findErrorNums(nums):\n",
        "  toRemove = sum(nums) - sum(set(nums))\n",
        "  actualMissing = sum(range(1, len(nums)+1)) - sum(set(nums))\n",
        "  return [toRemove, actualMissing]\n",
        "\n",
        "findErrorNums([1,2,2,4])"
      ],
      "metadata": {
        "colab": {
          "base_uri": "https://localhost:8080/"
        },
        "id": "DO-Rz4G1EuV2",
        "outputId": "8f00c1c5-c94b-4db1-9d9c-b4534c9e1566"
      },
      "execution_count": 12,
      "outputs": [
        {
          "output_type": "execute_result",
          "data": {
            "text/plain": [
              "[2, 3]"
            ]
          },
          "metadata": {},
          "execution_count": 12
        }
      ]
    }
  ]
}